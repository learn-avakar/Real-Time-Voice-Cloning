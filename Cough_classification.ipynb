{
  "nbformat": 4,
  "nbformat_minor": 0,
  "metadata": {
    "colab": {
      "name": "Cough_classification",
      "provenance": [],
      "collapsed_sections": [],
      "authorship_tag": "ABX9TyPwqmqHfPOZJzcvCfCuknea",
      "include_colab_link": true
    },
    "kernelspec": {
      "name": "python3",
      "display_name": "Python 3"
    }
  },
  "cells": [
    {
      "cell_type": "markdown",
      "metadata": {
        "id": "view-in-github",
        "colab_type": "text"
      },
      "source": [
        "<a href=\"https://colab.research.google.com/github/learn-avakar/Real-Time-Voice-Cloning/blob/master/Cough_classification.ipynb\" target=\"_parent\"><img src=\"https://colab.research.google.com/assets/colab-badge.svg\" alt=\"Open In Colab\"/></a>"
      ]
    },
    {
      "cell_type": "code",
      "metadata": {
        "id": "j6MZoesl-AJX",
        "colab_type": "code",
        "colab": {}
      },
      "source": [
        "Hello Bhupi"
      ],
      "execution_count": null,
      "outputs": []
    },
    {
      "cell_type": "markdown",
      "metadata": {
        "id": "q7_FdsTg_H7q",
        "colab_type": "text"
      },
      "source": [
        "References for Cough Classification are in the issues. \n",
        "This is purely for gathering the necessary code. \n"
      ]
    },
    {
      "cell_type": "code",
      "metadata": {
        "id": "8m5I3zd3_P4N",
        "colab_type": "code",
        "colab": {}
      },
      "source": [
        ""
      ],
      "execution_count": null,
      "outputs": []
    }
  ]
}